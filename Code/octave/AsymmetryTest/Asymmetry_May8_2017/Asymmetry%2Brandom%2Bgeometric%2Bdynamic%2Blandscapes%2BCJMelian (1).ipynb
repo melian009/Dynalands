{
 "cells": [
  {
   "cell_type": "code",
   "execution_count": null,
   "metadata": {
    "collapsed": true
   },
   "outputs": [],
   "source": [
    "%----------------------------------------------------------------------\n",
    "%General dynamic landscapes\n",
    "%Melian@KB May 2017\n",
    "%Palamara&Melian June 2017 version from scratch\n",
    "%----------------------------------------------------------------------\n",
    "for ri = 1:50;\n",
    "    S = 20;J = 100;%S sites and J inds. per site\n",
    "    \n",
    "    %1. Implement a general case with zero-sum dynamics \n",
    "    %combining static-dynamic vs. symmetric-asymmetric scenarios (non-stationary Gillespie later)\n",
    "    %Be sure that the mij + lambda + nu == 1\n",
    "    %----------------------------------------------------------- \n",
    "    R = ones(S,J);\n",
    "    countgen = 0;\n",
    "    Pairs = zeros(1,2);cevents = 0;\n",
    "for k = 1:100;\n",
    "        A = 100;%amplitude, is the peak deviation: \n",
    "        %350 to match simulations in random landscapes\n",
    "        f = 0.1;%ordinary frequency, number of \n",
    "        %cycles that occur each second of time\n",
    "        sig = 0;%the phase\n",
    "        countgen = countgen + 1;\n",
    "        r = A*sin(2*pi*f*countgen + sig) + A;%starting point with r approx.\n",
    "        \n",
    "        %2. Check sinusoidal with boundary conditions considering continuous A and f\n",
    "        %Check r_min == 0 and r_max == max distance ij\n",
    "               \n",
    "        D = zeros(S,S);%theshold matrix\n",
    "        Di = zeros(S,S);%distance matrix\n",
    "        mu = S*(exp((-pi * (r/1000)^2 * S)));%site connectivity\n",
    "        n = unifrnd(0,1000,S,2);\n",
    "\n",
    "        for i = 1:S-1;\n",
    "            for j = i+1:S;\n",
    "                A = (n(i,1) - n(j,1))^2;%Euclidean distance\n",
    "                B = (n(i,2) - n(j,2))^2;\n",
    "                d(i,j) = sqrt(A + B);\n",
    "                Di(i,j) = 1/d(i,j);\n",
    "                \n",
    "                %3. This is the simplest kernel\n",
    "                %Explore the asymmetry under 1/d(i,j)\n",
    "                %Do we need to implement more asymmetric situations, like 1/(d(i,j)^x) with x > 1;\n",
    "                \n",
    "                if d(i,j) < r;%threshold\n",
    "                   D(i,j) = 1;\n",
    "                else\n",
    "                   D(i,j) = 0;\n",
    "                end\n",
    "           end\n",
    "        end\n",
    "        DI=Di+Di';Dc=cumsum(DI,2);D1=D+D';\n",
    "        \n",
    "        for j = 1:J*S;\n",
    "            KillHab = unidrnd(S);\n",
    "            KillInd = unidrnd(J);\n",
    "            MigrantHab = unifrnd(0,max(Dc(KillHab,:)));\n",
    "            Hab = find(Dc(KillHab,:) >= MigrantHab);\n",
    "            %pause\n",
    "            if D1(KillHab,Hab(1,1)) == 1;\n",
    "               \n",
    "               %4. Implement local birth dynamics and speciation dynamics\n",
    "               \n",
    "               MigrantInd = unidrnd(J);\n",
    "               cevents = cevents + 1;\n",
    "               Pairs(cevents,1) = KillHab;\n",
    "               Pairs(cevents,2) = Hab(1,1);                 \n",
    "              break\n",
    "            end\n",
    "       \n",
    "        end\n",
    " end\n",
    "end                      \n",
    "fid = fopen('Asymmetry.txt','a');fprintf(fid, \n",
    "[repmat('% 6f',1,size(Pairs,2)), '\\n'],Pairs);fclose(fid); "
   ]
  },
  {
   "cell_type": "code",
   "execution_count": 11,
   "metadata": {
    "collapsed": true
   },
   "outputs": [],
   "source": [
    "A = dlmread('Asymmetry.txt');"
   ]
  },
  {
   "cell_type": "code",
   "execution_count": 12,
   "metadata": {},
   "outputs": [
    {
     "name": "stdout",
     "output_type": "stream",
     "text": [
      "ans =\n",
      "\n",
      "   370     2\n",
      "\n"
     ]
    }
   ],
   "source": [
    "size(A)"
   ]
  },
  {
   "cell_type": "code",
   "execution_count": 18,
   "metadata": {},
   "outputs": [
    {
     "data": {
      "image/png": "[encoded data removed]",
      "text/plain": [
       "<IPython.core.display.Image object>"
      ]
     },
     "metadata": {},
     "output_type": "display_data"
    }
   ],
   "source": [
    "%------------------------------------------------------------\n",
    "%Compute asymmetry in migration events between site i and j\n",
    "%Melian@KB May 2017\n",
    "%------------------------------------------------------------\n",
    "A = dlmread('Asymmetry.txt');\n",
    "B = unique(A,'rows');\n",
    "[tf1, idx] = ismember(A,B,'rows');            \n",
    "y = accumarray(idx(:),1);\n",
    "count = 0;\n",
    "for i = 1:length(B);\n",
    "    if B(i,1) ~= B(i,2);\n",
    "    i;\n",
    "       wij = find(B(:,1) == B(i,1) & B(:,2) == B(i,2));\n",
    "       wji = find(B(:,1) == B(i,2) & B(:,2) == B(i,1));\n",
    "       B(wij,:);\n",
    "       B(wji,:);\n",
    "       if ~isempty(B(wji,:)); \n",
    "       count = count + 1;\n",
    "       ASY(count,1) = abs(y(wij,:) - y(wji,:));\n",
    "       end\n",
    "    end\n",
    "end\n",
    "Q = sort(ASY,'descend');\n",
    "V = 1:length(Q);\n",
    "plot(V,Q,\"markersize\",36)\n",
    "xlabel (\"Rank in asymmetry\",\"fontsize\",16);\n",
    "ylabel (\"Asymmetry (abs(#wij - #wji))\",\"fontsize\",16);\n",
    "title (\"Asymmetry plot\",\"fontsize\",24);\n",
    "axis([0 120 -5 20])"
   ]
  },
  {
   "cell_type": "code",
   "execution_count": null,
   "metadata": {
    "collapsed": true
   },
   "outputs": [],
   "source": [
    "Asymmetry plot accounting for connectance and Euclidean distance \n",
    "for A = 100 and f = 0.1 -- Most pairwise sites have asymmetry \n",
    "close to zero (approx 75%) -- explore broader space of A and f, \n",
    "is asymmetry low across all the parameter space? \n",
    "Model a scenario with higher asymmetry -- which one?"
   ]
  }
 ],
 "metadata": {
  "kernelspec": {
   "display_name": "Octave",
   "language": "octave",
   "name": "octave"
  },
  "language_info": {
   "file_extension": ".m",
   "help_links": [
    {
     "text": "GNU Octave",
     "url": "https://www.gnu.org/software/octave/support.html"
    },
    {
     "text": "Octave Kernel",
     "url": "https://github.com/Calysto/octave_kernel"
    },
    {
     "text": "MetaKernel Magics",
     "url": "https://github.com/calysto/metakernel/blob/master/metakernel/magics/README.md"
    }
   ],
   "mimetype": "text/x-octave",
   "name": "octave",
   "version": "4.0.2"
  }
 },
 "nbformat": 4,
 "nbformat_minor": 2
}
